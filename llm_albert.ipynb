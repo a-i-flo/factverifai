{
 "cells": [
  {
   "cell_type": "code",
   "execution_count": 1,
   "id": "94a11a62",
   "metadata": {},
   "outputs": [
    {
     "name": "stdout",
     "output_type": "stream",
     "text": [
      "In cyber halls of knowledge vast,\n",
      "A digital commons takes its place at last,\n",
      "A shared space where minds entwine,\n",
      "And ideas flow, a virtual shrine.\n",
      "\n",
      "Where open-source code meets the eye,\n",
      "And collaborative spirit never dies,\n",
      "A community of hearts and minds,\n",
      "United by a digital find.\n",
      "\n",
      "In this digital hub of shared delight,\n",
      "Knowledge is free, and wisdom takes flight,\n",
      "A space where boundaries fade and blur,\n",
      "And the collective voice is heard for sure.\n",
      "\n",
      "So let us cherish this digital ground,\n",
      "Where creativity and progress are found,\n",
      "And the commons thrives, a beacon bright,\n",
      "Guiding us forward, into the digital light.\n"
     ]
    }
   ],
   "source": [
    "import os\n",
    "from dotenv import load_dotenv\n",
    "from openai import OpenAI\n",
    "\n",
    "load_dotenv()\n",
    "\n",
    "client = OpenAI(\n",
    "    base_url = 'https://albert.api.etalab.gouv.fr/v1',\n",
    "    api_key=os.getenv('ALBERT_API_KEY'),\n",
    ")\n",
    "\n",
    "prompt=\"Write a short poem about digital commons\"\n",
    "response = client.chat.completions.create(\n",
    "    model=\"albert-small\",\n",
    "    messages=[\n",
    "        {\"role\": \"user\", \"content\": prompt},\n",
    "    ]\n",
    ")\n",
    "\n",
    "print(response.choices[0].message.content)"
   ]
  },
  {
   "cell_type": "code",
   "execution_count": null,
   "id": "60744b48",
   "metadata": {},
   "outputs": [],
   "source": []
  }
 ],
 "metadata": {
  "kernelspec": {
   "display_name": "factverifai-env",
   "language": "python",
   "name": "python3"
  },
  "language_info": {
   "codemirror_mode": {
    "name": "ipython",
    "version": 3
   },
   "file_extension": ".py",
   "mimetype": "text/x-python",
   "name": "python",
   "nbconvert_exporter": "python",
   "pygments_lexer": "ipython3",
   "version": "3.13.3"
  }
 },
 "nbformat": 4,
 "nbformat_minor": 5
}
